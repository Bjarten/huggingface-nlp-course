{
  "cells": [
    {
      "cell_type": "markdown",
      "metadata": {
        "id": "view-in-github",
        "colab_type": "text"
      },
      "source": [
        "<a href=\"https://colab.research.google.com/github/Bjarten/huggingface-nlp-course/blob/main/chapter1/section3.ipynb\" target=\"_parent\"><img src=\"https://colab.research.google.com/assets/colab-badge.svg\" alt=\"Open In Colab\"/></a>"
      ]
    },
    {
      "cell_type": "markdown",
      "metadata": {
        "id": "qNseYlyKYDZ7"
      },
      "source": [
        "# Transformers, what can they do?"
      ]
    },
    {
      "cell_type": "markdown",
      "metadata": {
        "id": "_drhrjIvYDZ8"
      },
      "source": [
        "Install the Transformers, Datasets, and Evaluate libraries to run this notebook."
      ]
    },
    {
      "cell_type": "code",
      "execution_count": 1,
      "metadata": {
        "colab": {
          "base_uri": "https://localhost:8080/"
        },
        "id": "sbSVy5iTYDZ8",
        "outputId": "f1d1a9b3-3fde-4fdf-ecc8-f080f10efdc9"
      },
      "outputs": [
        {
          "output_type": "stream",
          "name": "stdout",
          "text": [
            "Collecting datasets\n",
            "  Downloading datasets-2.21.0-py3-none-any.whl.metadata (21 kB)\n",
            "Collecting evaluate\n",
            "  Downloading evaluate-0.4.2-py3-none-any.whl.metadata (9.3 kB)\n",
            "Requirement already satisfied: transformers[sentencepiece] in /usr/local/lib/python3.10/dist-packages (4.44.2)\n",
            "Requirement already satisfied: filelock in /usr/local/lib/python3.10/dist-packages (from datasets) (3.15.4)\n",
            "Requirement already satisfied: numpy>=1.17 in /usr/local/lib/python3.10/dist-packages (from datasets) (1.26.4)\n",
            "Collecting pyarrow>=15.0.0 (from datasets)\n",
            "  Downloading pyarrow-17.0.0-cp310-cp310-manylinux_2_28_x86_64.whl.metadata (3.3 kB)\n",
            "Collecting dill<0.3.9,>=0.3.0 (from datasets)\n",
            "  Downloading dill-0.3.8-py3-none-any.whl.metadata (10 kB)\n",
            "Requirement already satisfied: pandas in /usr/local/lib/python3.10/dist-packages (from datasets) (2.1.4)\n",
            "Requirement already satisfied: requests>=2.32.2 in /usr/local/lib/python3.10/dist-packages (from datasets) (2.32.3)\n",
            "Requirement already satisfied: tqdm>=4.66.3 in /usr/local/lib/python3.10/dist-packages (from datasets) (4.66.5)\n",
            "Collecting xxhash (from datasets)\n",
            "  Downloading xxhash-3.5.0-cp310-cp310-manylinux_2_17_x86_64.manylinux2014_x86_64.whl.metadata (12 kB)\n",
            "Collecting multiprocess (from datasets)\n",
            "  Downloading multiprocess-0.70.16-py310-none-any.whl.metadata (7.2 kB)\n",
            "Requirement already satisfied: fsspec<=2024.6.1,>=2023.1.0 in /usr/local/lib/python3.10/dist-packages (from fsspec[http]<=2024.6.1,>=2023.1.0->datasets) (2024.6.1)\n",
            "Requirement already satisfied: aiohttp in /usr/local/lib/python3.10/dist-packages (from datasets) (3.10.5)\n",
            "Requirement already satisfied: huggingface-hub>=0.21.2 in /usr/local/lib/python3.10/dist-packages (from datasets) (0.24.6)\n",
            "Requirement already satisfied: packaging in /usr/local/lib/python3.10/dist-packages (from datasets) (24.1)\n",
            "Requirement already satisfied: pyyaml>=5.1 in /usr/local/lib/python3.10/dist-packages (from datasets) (6.0.2)\n",
            "Requirement already satisfied: regex!=2019.12.17 in /usr/local/lib/python3.10/dist-packages (from transformers[sentencepiece]) (2024.5.15)\n",
            "Requirement already satisfied: safetensors>=0.4.1 in /usr/local/lib/python3.10/dist-packages (from transformers[sentencepiece]) (0.4.4)\n",
            "Requirement already satisfied: tokenizers<0.20,>=0.19 in /usr/local/lib/python3.10/dist-packages (from transformers[sentencepiece]) (0.19.1)\n",
            "Requirement already satisfied: protobuf in /usr/local/lib/python3.10/dist-packages (from transformers[sentencepiece]) (3.20.3)\n",
            "Requirement already satisfied: sentencepiece!=0.1.92,>=0.1.91 in /usr/local/lib/python3.10/dist-packages (from transformers[sentencepiece]) (0.1.99)\n",
            "Requirement already satisfied: aiohappyeyeballs>=2.3.0 in /usr/local/lib/python3.10/dist-packages (from aiohttp->datasets) (2.4.0)\n",
            "Requirement already satisfied: aiosignal>=1.1.2 in /usr/local/lib/python3.10/dist-packages (from aiohttp->datasets) (1.3.1)\n",
            "Requirement already satisfied: attrs>=17.3.0 in /usr/local/lib/python3.10/dist-packages (from aiohttp->datasets) (24.2.0)\n",
            "Requirement already satisfied: frozenlist>=1.1.1 in /usr/local/lib/python3.10/dist-packages (from aiohttp->datasets) (1.4.1)\n",
            "Requirement already satisfied: multidict<7.0,>=4.5 in /usr/local/lib/python3.10/dist-packages (from aiohttp->datasets) (6.0.5)\n",
            "Requirement already satisfied: yarl<2.0,>=1.0 in /usr/local/lib/python3.10/dist-packages (from aiohttp->datasets) (1.9.4)\n",
            "Requirement already satisfied: async-timeout<5.0,>=4.0 in /usr/local/lib/python3.10/dist-packages (from aiohttp->datasets) (4.0.3)\n",
            "Requirement already satisfied: typing-extensions>=3.7.4.3 in /usr/local/lib/python3.10/dist-packages (from huggingface-hub>=0.21.2->datasets) (4.12.2)\n",
            "Requirement already satisfied: charset-normalizer<4,>=2 in /usr/local/lib/python3.10/dist-packages (from requests>=2.32.2->datasets) (3.3.2)\n",
            "Requirement already satisfied: idna<4,>=2.5 in /usr/local/lib/python3.10/dist-packages (from requests>=2.32.2->datasets) (3.8)\n",
            "Requirement already satisfied: urllib3<3,>=1.21.1 in /usr/local/lib/python3.10/dist-packages (from requests>=2.32.2->datasets) (2.0.7)\n",
            "Requirement already satisfied: certifi>=2017.4.17 in /usr/local/lib/python3.10/dist-packages (from requests>=2.32.2->datasets) (2024.8.30)\n",
            "Requirement already satisfied: python-dateutil>=2.8.2 in /usr/local/lib/python3.10/dist-packages (from pandas->datasets) (2.8.2)\n",
            "Requirement already satisfied: pytz>=2020.1 in /usr/local/lib/python3.10/dist-packages (from pandas->datasets) (2024.1)\n",
            "Requirement already satisfied: tzdata>=2022.1 in /usr/local/lib/python3.10/dist-packages (from pandas->datasets) (2024.1)\n",
            "Requirement already satisfied: six>=1.5 in /usr/local/lib/python3.10/dist-packages (from python-dateutil>=2.8.2->pandas->datasets) (1.16.0)\n",
            "Downloading datasets-2.21.0-py3-none-any.whl (527 kB)\n",
            "\u001b[2K   \u001b[90m━━━━━━━━━━━━━━━━━━━━━━━━━━━━━━━━━━━━━━━━\u001b[0m \u001b[32m527.3/527.3 kB\u001b[0m \u001b[31m8.1 MB/s\u001b[0m eta \u001b[36m0:00:00\u001b[0m\n",
            "\u001b[?25hDownloading evaluate-0.4.2-py3-none-any.whl (84 kB)\n",
            "\u001b[2K   \u001b[90m━━━━━━━━━━━━━━━━━━━━━━━━━━━━━━━━━━━━━━━━\u001b[0m \u001b[32m84.1/84.1 kB\u001b[0m \u001b[31m4.5 MB/s\u001b[0m eta \u001b[36m0:00:00\u001b[0m\n",
            "\u001b[?25hDownloading dill-0.3.8-py3-none-any.whl (116 kB)\n",
            "\u001b[2K   \u001b[90m━━━━━━━━━━━━━━━━━━━━━━━━━━━━━━━━━━━━━━━━\u001b[0m \u001b[32m116.3/116.3 kB\u001b[0m \u001b[31m6.8 MB/s\u001b[0m eta \u001b[36m0:00:00\u001b[0m\n",
            "\u001b[?25hDownloading pyarrow-17.0.0-cp310-cp310-manylinux_2_28_x86_64.whl (39.9 MB)\n",
            "\u001b[2K   \u001b[90m━━━━━━━━━━━━━━━━━━━━━━━━━━━━━━━━━━━━━━━━\u001b[0m \u001b[32m39.9/39.9 MB\u001b[0m \u001b[31m10.8 MB/s\u001b[0m eta \u001b[36m0:00:00\u001b[0m\n",
            "\u001b[?25hDownloading multiprocess-0.70.16-py310-none-any.whl (134 kB)\n",
            "\u001b[2K   \u001b[90m━━━━━━━━━━━━━━━━━━━━━━━━━━━━━━━━━━━━━━━━\u001b[0m \u001b[32m134.8/134.8 kB\u001b[0m \u001b[31m11.1 MB/s\u001b[0m eta \u001b[36m0:00:00\u001b[0m\n",
            "\u001b[?25hDownloading xxhash-3.5.0-cp310-cp310-manylinux_2_17_x86_64.manylinux2014_x86_64.whl (194 kB)\n",
            "\u001b[2K   \u001b[90m━━━━━━━━━━━━━━━━━━━━━━━━━━━━━━━━━━━━━━━━\u001b[0m \u001b[32m194.1/194.1 kB\u001b[0m \u001b[31m13.0 MB/s\u001b[0m eta \u001b[36m0:00:00\u001b[0m\n",
            "\u001b[?25hInstalling collected packages: xxhash, pyarrow, dill, multiprocess, datasets, evaluate\n",
            "  Attempting uninstall: pyarrow\n",
            "    Found existing installation: pyarrow 14.0.2\n",
            "    Uninstalling pyarrow-14.0.2:\n",
            "      Successfully uninstalled pyarrow-14.0.2\n",
            "\u001b[31mERROR: pip's dependency resolver does not currently take into account all the packages that are installed. This behaviour is the source of the following dependency conflicts.\n",
            "cudf-cu12 24.4.1 requires pyarrow<15.0.0a0,>=14.0.1, but you have pyarrow 17.0.0 which is incompatible.\n",
            "ibis-framework 8.0.0 requires pyarrow<16,>=2, but you have pyarrow 17.0.0 which is incompatible.\u001b[0m\u001b[31m\n",
            "\u001b[0mSuccessfully installed datasets-2.21.0 dill-0.3.8 evaluate-0.4.2 multiprocess-0.70.16 pyarrow-17.0.0 xxhash-3.5.0\n"
          ]
        }
      ],
      "source": [
        "!pip install datasets evaluate transformers[sentencepiece]"
      ]
    },
    {
      "cell_type": "code",
      "source": [
        "from transformers import pipeline\n",
        "help(pipeline)"
      ],
      "metadata": {
        "colab": {
          "base_uri": "https://localhost:8080/"
        },
        "id": "DSlbcAuUZ3IS",
        "outputId": "9cc4da84-8a2a-4099-bf6d-6cbca1e2103b"
      },
      "execution_count": 15,
      "outputs": [
        {
          "output_type": "stream",
          "name": "stdout",
          "text": [
            "Help on function pipeline in module transformers.pipelines:\n",
            "\n",
            "pipeline(task: str = None, model: Union[str, ForwardRef('PreTrainedModel'), ForwardRef('TFPreTrainedModel'), NoneType] = None, config: Union[str, transformers.configuration_utils.PretrainedConfig, NoneType] = None, tokenizer: Union[str, transformers.tokenization_utils.PreTrainedTokenizer, ForwardRef('PreTrainedTokenizerFast'), NoneType] = None, feature_extractor: Union[str, ForwardRef('SequenceFeatureExtractor'), NoneType] = None, image_processor: Union[str, transformers.image_processing_utils.BaseImageProcessor, NoneType] = None, framework: Optional[str] = None, revision: Optional[str] = None, use_fast: bool = True, token: Union[str, bool, NoneType] = None, device: Union[int, str, ForwardRef('torch.device'), NoneType] = None, device_map=None, torch_dtype=None, trust_remote_code: Optional[bool] = None, model_kwargs: Dict[str, Any] = None, pipeline_class: Optional[Any] = None, **kwargs) -> transformers.pipelines.base.Pipeline\n",
            "    Utility factory method to build a [`Pipeline`].\n",
            "    \n",
            "    Pipelines are made of:\n",
            "    \n",
            "        - A [tokenizer](tokenizer) in charge of mapping raw textual input to token.\n",
            "        - A [model](model) to make predictions from the inputs.\n",
            "        - Some (optional) post processing for enhancing model's output.\n",
            "    \n",
            "    Args:\n",
            "        task (`str`):\n",
            "            The task defining which pipeline will be returned. Currently accepted tasks are:\n",
            "    \n",
            "            - `\"audio-classification\"`: will return a [`AudioClassificationPipeline`].\n",
            "            - `\"automatic-speech-recognition\"`: will return a [`AutomaticSpeechRecognitionPipeline`].\n",
            "            - `\"depth-estimation\"`: will return a [`DepthEstimationPipeline`].\n",
            "            - `\"document-question-answering\"`: will return a [`DocumentQuestionAnsweringPipeline`].\n",
            "            - `\"feature-extraction\"`: will return a [`FeatureExtractionPipeline`].\n",
            "            - `\"fill-mask\"`: will return a [`FillMaskPipeline`]:.\n",
            "            - `\"image-classification\"`: will return a [`ImageClassificationPipeline`].\n",
            "            - `\"image-feature-extraction\"`: will return an [`ImageFeatureExtractionPipeline`].\n",
            "            - `\"image-segmentation\"`: will return a [`ImageSegmentationPipeline`].\n",
            "            - `\"image-to-image\"`: will return a [`ImageToImagePipeline`].\n",
            "            - `\"image-to-text\"`: will return a [`ImageToTextPipeline`].\n",
            "            - `\"mask-generation\"`: will return a [`MaskGenerationPipeline`].\n",
            "            - `\"object-detection\"`: will return a [`ObjectDetectionPipeline`].\n",
            "            - `\"question-answering\"`: will return a [`QuestionAnsweringPipeline`].\n",
            "            - `\"summarization\"`: will return a [`SummarizationPipeline`].\n",
            "            - `\"table-question-answering\"`: will return a [`TableQuestionAnsweringPipeline`].\n",
            "            - `\"text2text-generation\"`: will return a [`Text2TextGenerationPipeline`].\n",
            "            - `\"text-classification\"` (alias `\"sentiment-analysis\"` available): will return a\n",
            "              [`TextClassificationPipeline`].\n",
            "            - `\"text-generation\"`: will return a [`TextGenerationPipeline`]:.\n",
            "            - `\"text-to-audio\"` (alias `\"text-to-speech\"` available): will return a [`TextToAudioPipeline`]:.\n",
            "            - `\"token-classification\"` (alias `\"ner\"` available): will return a [`TokenClassificationPipeline`].\n",
            "            - `\"translation\"`: will return a [`TranslationPipeline`].\n",
            "            - `\"translation_xx_to_yy\"`: will return a [`TranslationPipeline`].\n",
            "            - `\"video-classification\"`: will return a [`VideoClassificationPipeline`].\n",
            "            - `\"visual-question-answering\"`: will return a [`VisualQuestionAnsweringPipeline`].\n",
            "            - `\"zero-shot-classification\"`: will return a [`ZeroShotClassificationPipeline`].\n",
            "            - `\"zero-shot-image-classification\"`: will return a [`ZeroShotImageClassificationPipeline`].\n",
            "            - `\"zero-shot-audio-classification\"`: will return a [`ZeroShotAudioClassificationPipeline`].\n",
            "            - `\"zero-shot-object-detection\"`: will return a [`ZeroShotObjectDetectionPipeline`].\n",
            "    \n",
            "        model (`str` or [`PreTrainedModel`] or [`TFPreTrainedModel`], *optional*):\n",
            "            The model that will be used by the pipeline to make predictions. This can be a model identifier or an\n",
            "            actual instance of a pretrained model inheriting from [`PreTrainedModel`] (for PyTorch) or\n",
            "            [`TFPreTrainedModel`] (for TensorFlow).\n",
            "    \n",
            "            If not provided, the default for the `task` will be loaded.\n",
            "        config (`str` or [`PretrainedConfig`], *optional*):\n",
            "            The configuration that will be used by the pipeline to instantiate the model. This can be a model\n",
            "            identifier or an actual pretrained model configuration inheriting from [`PretrainedConfig`].\n",
            "    \n",
            "            If not provided, the default configuration file for the requested model will be used. That means that if\n",
            "            `model` is given, its default configuration will be used. However, if `model` is not supplied, this\n",
            "            `task`'s default model's config is used instead.\n",
            "        tokenizer (`str` or [`PreTrainedTokenizer`], *optional*):\n",
            "            The tokenizer that will be used by the pipeline to encode data for the model. This can be a model\n",
            "            identifier or an actual pretrained tokenizer inheriting from [`PreTrainedTokenizer`].\n",
            "    \n",
            "            If not provided, the default tokenizer for the given `model` will be loaded (if it is a string). If `model`\n",
            "            is not specified or not a string, then the default tokenizer for `config` is loaded (if it is a string).\n",
            "            However, if `config` is also not given or not a string, then the default tokenizer for the given `task`\n",
            "            will be loaded.\n",
            "        feature_extractor (`str` or [`PreTrainedFeatureExtractor`], *optional*):\n",
            "            The feature extractor that will be used by the pipeline to encode data for the model. This can be a model\n",
            "            identifier or an actual pretrained feature extractor inheriting from [`PreTrainedFeatureExtractor`].\n",
            "    \n",
            "            Feature extractors are used for non-NLP models, such as Speech or Vision models as well as multi-modal\n",
            "            models. Multi-modal models will also require a tokenizer to be passed.\n",
            "    \n",
            "            If not provided, the default feature extractor for the given `model` will be loaded (if it is a string). If\n",
            "            `model` is not specified or not a string, then the default feature extractor for `config` is loaded (if it\n",
            "            is a string). However, if `config` is also not given or not a string, then the default feature extractor\n",
            "            for the given `task` will be loaded.\n",
            "        framework (`str`, *optional*):\n",
            "            The framework to use, either `\"pt\"` for PyTorch or `\"tf\"` for TensorFlow. The specified framework must be\n",
            "            installed.\n",
            "    \n",
            "            If no framework is specified, will default to the one currently installed. If no framework is specified and\n",
            "            both frameworks are installed, will default to the framework of the `model`, or to PyTorch if no model is\n",
            "            provided.\n",
            "        revision (`str`, *optional*, defaults to `\"main\"`):\n",
            "            When passing a task name or a string model identifier: The specific model version to use. It can be a\n",
            "            branch name, a tag name, or a commit id, since we use a git-based system for storing models and other\n",
            "            artifacts on huggingface.co, so `revision` can be any identifier allowed by git.\n",
            "        use_fast (`bool`, *optional*, defaults to `True`):\n",
            "            Whether or not to use a Fast tokenizer if possible (a [`PreTrainedTokenizerFast`]).\n",
            "        use_auth_token (`str` or *bool*, *optional*):\n",
            "            The token to use as HTTP bearer authorization for remote files. If `True`, will use the token generated\n",
            "            when running `huggingface-cli login` (stored in `~/.huggingface`).\n",
            "        device (`int` or `str` or `torch.device`):\n",
            "            Defines the device (*e.g.*, `\"cpu\"`, `\"cuda:1\"`, `\"mps\"`, or a GPU ordinal rank like `1`) on which this\n",
            "            pipeline will be allocated.\n",
            "        device_map (`str` or `Dict[str, Union[int, str, torch.device]`, *optional*):\n",
            "            Sent directly as `model_kwargs` (just a simpler shortcut). When `accelerate` library is present, set\n",
            "            `device_map=\"auto\"` to compute the most optimized `device_map` automatically (see\n",
            "            [here](https://huggingface.co/docs/accelerate/main/en/package_reference/big_modeling#accelerate.cpu_offload)\n",
            "            for more information).\n",
            "    \n",
            "            <Tip warning={true}>\n",
            "    \n",
            "            Do not use `device_map` AND `device` at the same time as they will conflict\n",
            "    \n",
            "            </Tip>\n",
            "    \n",
            "        torch_dtype (`str` or `torch.dtype`, *optional*):\n",
            "            Sent directly as `model_kwargs` (just a simpler shortcut) to use the available precision for this model\n",
            "            (`torch.float16`, `torch.bfloat16`, ... or `\"auto\"`).\n",
            "        trust_remote_code (`bool`, *optional*, defaults to `False`):\n",
            "            Whether or not to allow for custom code defined on the Hub in their own modeling, configuration,\n",
            "            tokenization or even pipeline files. This option should only be set to `True` for repositories you trust\n",
            "            and in which you have read the code, as it will execute code present on the Hub on your local machine.\n",
            "        model_kwargs (`Dict[str, Any]`, *optional*):\n",
            "            Additional dictionary of keyword arguments passed along to the model's `from_pretrained(...,\n",
            "            **model_kwargs)` function.\n",
            "        kwargs (`Dict[str, Any]`, *optional*):\n",
            "            Additional keyword arguments passed along to the specific pipeline init (see the documentation for the\n",
            "            corresponding pipeline class for possible values).\n",
            "    \n",
            "    Returns:\n",
            "        [`Pipeline`]: A suitable pipeline for the task.\n",
            "    \n",
            "    Examples:\n",
            "    \n",
            "    ```python\n",
            "    >>> from transformers import pipeline, AutoModelForTokenClassification, AutoTokenizer\n",
            "    \n",
            "    >>> # Sentiment analysis pipeline\n",
            "    >>> analyzer = pipeline(\"sentiment-analysis\")\n",
            "    \n",
            "    >>> # Question answering pipeline, specifying the checkpoint identifier\n",
            "    >>> oracle = pipeline(\n",
            "    ...     \"question-answering\", model=\"distilbert/distilbert-base-cased-distilled-squad\", tokenizer=\"google-bert/bert-base-cased\"\n",
            "    ... )\n",
            "    \n",
            "    >>> # Named entity recognition pipeline, passing in a specific model and tokenizer\n",
            "    >>> model = AutoModelForTokenClassification.from_pretrained(\"dbmdz/bert-large-cased-finetuned-conll03-english\")\n",
            "    >>> tokenizer = AutoTokenizer.from_pretrained(\"google-bert/bert-base-cased\")\n",
            "    >>> recognizer = pipeline(\"ner\", model=model, tokenizer=tokenizer)\n",
            "    ```\n",
            "\n"
          ]
        }
      ]
    },
    {
      "cell_type": "code",
      "execution_count": 16,
      "metadata": {
        "colab": {
          "base_uri": "https://localhost:8080/"
        },
        "id": "goDGQylxYDZ9",
        "outputId": "1f2635ab-5763-4ec5-f62e-4a8e945fd642"
      },
      "outputs": [
        {
          "output_type": "stream",
          "name": "stderr",
          "text": [
            "No model was supplied, defaulted to distilbert/distilbert-base-uncased-finetuned-sst-2-english and revision af0f99b (https://huggingface.co/distilbert/distilbert-base-uncased-finetuned-sst-2-english).\n",
            "Using a pipeline without specifying a model name and revision in production is not recommended.\n",
            "/usr/local/lib/python3.10/dist-packages/transformers/tokenization_utils_base.py:1601: FutureWarning: `clean_up_tokenization_spaces` was not set. It will be set to `True` by default. This behavior will be depracted in transformers v4.45, and will be then set to `False` by default. For more details check this issue: https://github.com/huggingface/transformers/issues/31884\n",
            "  warnings.warn(\n"
          ]
        },
        {
          "output_type": "execute_result",
          "data": {
            "text/plain": [
              "[{'label': 'POSITIVE', 'score': 0.9598048329353333}]"
            ]
          },
          "metadata": {},
          "execution_count": 16
        }
      ],
      "source": [
        "classifier = pipeline(\"sentiment-analysis\")\n",
        "classifier(\"I've been waiting for a HuggingFace course my whole life.\")"
      ]
    },
    {
      "cell_type": "code",
      "execution_count": 17,
      "metadata": {
        "colab": {
          "base_uri": "https://localhost:8080/"
        },
        "id": "verPTN9kYDZ-",
        "outputId": "7785d09e-0a2d-4ac6-9703-2680f4dc2bf4"
      },
      "outputs": [
        {
          "output_type": "execute_result",
          "data": {
            "text/plain": [
              "[{'label': 'POSITIVE', 'score': 0.9598048329353333},\n",
              " {'label': 'NEGATIVE', 'score': 0.9994558691978455}]"
            ]
          },
          "metadata": {},
          "execution_count": 17
        }
      ],
      "source": [
        "classifier(\n",
        "    [\"I've been waiting for a HuggingFace course my whole life.\", \"I hate this so much!\"]\n",
        ")"
      ]
    },
    {
      "cell_type": "code",
      "execution_count": 22,
      "metadata": {
        "colab": {
          "base_uri": "https://localhost:8080/"
        },
        "id": "L40OVlE6YDZ-",
        "outputId": "24101d54-0921-4d44-9ae2-0c663da9477e"
      },
      "outputs": [
        {
          "output_type": "stream",
          "name": "stderr",
          "text": [
            "No model was supplied, defaulted to facebook/bart-large-mnli and revision c626438 (https://huggingface.co/facebook/bart-large-mnli).\n",
            "Using a pipeline without specifying a model name and revision in production is not recommended.\n"
          ]
        },
        {
          "output_type": "execute_result",
          "data": {
            "text/plain": [
              "{'sequence': 'This is a course about the Transformers library',\n",
              " 'labels': ['information', 'education', 'business', 'politics', 'slander'],\n",
              " 'scores': [0.8889157176017761,\n",
              "  0.09081684052944183,\n",
              "  0.012040158733725548,\n",
              "  0.0046695261262357235,\n",
              "  0.0035578086972236633]}"
            ]
          },
          "metadata": {},
          "execution_count": 22
        }
      ],
      "source": [
        "classifier = pipeline(\"zero-shot-classification)\n",
        "classifier(\n",
        "    \"This is a course about the Transformers library\",\n",
        "    candidate_labels=[\"information\", \"slander\", \"education\", \"politics\", \"business\"],\n",
        ")"
      ]
    },
    {
      "cell_type": "code",
      "execution_count": 26,
      "metadata": {
        "colab": {
          "base_uri": "https://localhost:8080/"
        },
        "id": "zebepUQ2YDZ_",
        "outputId": "87b1cef1-ef01-44e9-cf8c-faefa794e78f"
      },
      "outputs": [
        {
          "output_type": "stream",
          "name": "stderr",
          "text": [
            "No model was supplied, defaulted to openai-community/gpt2 and revision 6c0e608 (https://huggingface.co/openai-community/gpt2).\n",
            "Using a pipeline without specifying a model name and revision in production is not recommended.\n",
            "/usr/local/lib/python3.10/dist-packages/transformers/tokenization_utils_base.py:1601: FutureWarning: `clean_up_tokenization_spaces` was not set. It will be set to `True` by default. This behavior will be depracted in transformers v4.45, and will be then set to `False` by default. For more details check this issue: https://github.com/huggingface/transformers/issues/31884\n",
            "  warnings.warn(\n",
            "Setting `pad_token_id` to `eos_token_id`:50256 for open-end generation.\n"
          ]
        },
        {
          "output_type": "execute_result",
          "data": {
            "text/plain": [
              "[{'generated_text': 'In this course, we will teach you how to create and implement a single-player, side-scrolling shooter for Fallout, as well as a 2-on-2 multiplayer mode that combines combat and survival with a strong focus on character balance.'}]"
            ]
          },
          "metadata": {},
          "execution_count": 26
        }
      ],
      "source": [
        "generator = pipeline(\"text-generation\")\n",
        "generator(\"In this course, we will teach you how to\")"
      ]
    },
    {
      "cell_type": "code",
      "execution_count": 29,
      "metadata": {
        "colab": {
          "base_uri": "https://localhost:8080/"
        },
        "id": "27c5hqueYDZ_",
        "outputId": "5b96a29f-bf75-4e12-926e-18aa0267d2bb"
      },
      "outputs": [
        {
          "output_type": "stream",
          "name": "stderr",
          "text": [
            "/usr/local/lib/python3.10/dist-packages/transformers/tokenization_utils_base.py:1601: FutureWarning: `clean_up_tokenization_spaces` was not set. It will be set to `True` by default. This behavior will be depracted in transformers v4.45, and will be then set to `False` by default. For more details check this issue: https://github.com/huggingface/transformers/issues/31884\n",
            "  warnings.warn(\n",
            "Setting `pad_token_id` to `eos_token_id`:50256 for open-end generation.\n"
          ]
        },
        {
          "output_type": "execute_result",
          "data": {
            "text/plain": [
              "[{'generated_text': 'In this course, we will teach you how to use the basic knowledge to design a business strategy – how to take advantage of the strengths of the process'},\n",
              " {'generated_text': 'In this course, we will teach you how to identify people that they are not afraid to talk about, identify, identify, and identify with.�'}]"
            ]
          },
          "metadata": {},
          "execution_count": 29
        }
      ],
      "source": [
        "generator = pipeline(\"text-generation\", model=\"distilgpt2\", truncation=True)\n",
        "generator(\n",
        "    \"In this course, we will teach you how to\",\n",
        "    max_length=30,\n",
        "    num_return_sequences=2,\n",
        ")"
      ]
    },
    {
      "cell_type": "code",
      "execution_count": 32,
      "metadata": {
        "colab": {
          "base_uri": "https://localhost:8080/"
        },
        "id": "o-g3JVa3YDaA",
        "outputId": "65f427c3-3e6c-4518-ba0a-130b08a8c960"
      },
      "outputs": [
        {
          "output_type": "stream",
          "name": "stderr",
          "text": [
            "No model was supplied, defaulted to distilbert/distilroberta-base and revision ec58a5b (https://huggingface.co/distilbert/distilroberta-base).\n",
            "Using a pipeline without specifying a model name and revision in production is not recommended.\n",
            "Some weights of the model checkpoint at distilbert/distilroberta-base were not used when initializing RobertaForMaskedLM: ['roberta.pooler.dense.bias', 'roberta.pooler.dense.weight']\n",
            "- This IS expected if you are initializing RobertaForMaskedLM from the checkpoint of a model trained on another task or with another architecture (e.g. initializing a BertForSequenceClassification model from a BertForPreTraining model).\n",
            "- This IS NOT expected if you are initializing RobertaForMaskedLM from the checkpoint of a model that you expect to be exactly identical (initializing a BertForSequenceClassification model from a BertForSequenceClassification model).\n"
          ]
        },
        {
          "output_type": "execute_result",
          "data": {
            "text/plain": [
              "[{'score': 0.181261345744133,\n",
              "  'token': 774,\n",
              "  'token_str': ' role',\n",
              "  'sequence': 'This political course will teach you all about role models.'},\n",
              " {'score': 0.15309745073318481,\n",
              "  'token': 592,\n",
              "  'token_str': ' social',\n",
              "  'sequence': 'This political course will teach you all about social models.'}]"
            ]
          },
          "metadata": {},
          "execution_count": 32
        }
      ],
      "source": [
        "unmasker = pipeline(\"fill-mask\")\n",
        "unmasker(\"This political course will teach you all about <mask> models.\", top_k=2)"
      ]
    },
    {
      "cell_type": "markdown",
      "source": [
        "The `ner` model can recognize a wide variety of entity types, but the exact number depends on the specific model you're using. Common entity types include:\n",
        "\n",
        "1. **Person (PER)** – Names of people.\n",
        "2. **Organization (ORG)** – Names of companies, institutions, etc.\n",
        "3. **Location (LOC)** – Names of cities, countries, and other geographical locations.\n",
        "4. **Miscellaneous (MISC)** – Other entities like events, works of art, nationalities, etc.\n",
        "5. **Date (DATE)** – Specific dates or periods.\n",
        "6. **Time (TIME)** – Times or durations.\n",
        "7. **Money (MONEY)** – Monetary amounts.\n",
        "8. **Percent (PERCENT)** – Percentage expressions.\n",
        "9. **Ordinal (ORDINAL)** – First, second, etc.\n",
        "10. **Quantity (QUANTITY)** – Measurements, amounts, etc.\n",
        "\n",
        "The exact list of entities may vary, but most NER models recognize these core categories. You can check the documentation of the specific model to see its full entity set."
      ],
      "metadata": {
        "id": "UmcS7-Uffpc5"
      }
    },
    {
      "cell_type": "code",
      "execution_count": 36,
      "metadata": {
        "colab": {
          "base_uri": "https://localhost:8080/"
        },
        "id": "L5VTMDTrYDaA",
        "outputId": "89bc6fa7-7c70-49dc-e34a-c4bc0b6a4ce0"
      },
      "outputs": [
        {
          "output_type": "stream",
          "name": "stderr",
          "text": [
            "No model was supplied, defaulted to dbmdz/bert-large-cased-finetuned-conll03-english and revision f2482bf (https://huggingface.co/dbmdz/bert-large-cased-finetuned-conll03-english).\n",
            "Using a pipeline without specifying a model name and revision in production is not recommended.\n",
            "Some weights of the model checkpoint at dbmdz/bert-large-cased-finetuned-conll03-english were not used when initializing BertForTokenClassification: ['bert.pooler.dense.bias', 'bert.pooler.dense.weight']\n",
            "- This IS expected if you are initializing BertForTokenClassification from the checkpoint of a model trained on another task or with another architecture (e.g. initializing a BertForSequenceClassification model from a BertForPreTraining model).\n",
            "- This IS NOT expected if you are initializing BertForTokenClassification from the checkpoint of a model that you expect to be exactly identical (initializing a BertForSequenceClassification model from a BertForSequenceClassification model).\n"
          ]
        },
        {
          "output_type": "execute_result",
          "data": {
            "text/plain": [
              "[{'entity_group': 'PER',\n",
              "  'score': 0.9979967,\n",
              "  'word': 'Sylvain',\n",
              "  'start': 12,\n",
              "  'end': 19},\n",
              " {'entity_group': 'ORG',\n",
              "  'score': 0.52068365,\n",
              "  'word': 'Learning',\n",
              "  'start': 45,\n",
              "  'end': 53},\n",
              " {'entity_group': 'MISC',\n",
              "  'score': 0.5187851,\n",
              "  'word': 'Engineer',\n",
              "  'start': 54,\n",
              "  'end': 62},\n",
              " {'entity_group': 'ORG',\n",
              "  'score': 0.9951322,\n",
              "  'word': 'Hugging Face',\n",
              "  'start': 66,\n",
              "  'end': 78},\n",
              " {'entity_group': 'LOC',\n",
              "  'score': 0.99591655,\n",
              "  'word': 'Brooklyn',\n",
              "  'start': 82,\n",
              "  'end': 90},\n",
              " {'entity_group': 'LOC',\n",
              "  'score': 0.9992931,\n",
              "  'word': 'New York',\n",
              "  'start': 92,\n",
              "  'end': 100},\n",
              " {'entity_group': 'PER',\n",
              "  'score': 0.99958974,\n",
              "  'word': 'Dave',\n",
              "  'start': 237,\n",
              "  'end': 241},\n",
              " {'entity_group': 'PER',\n",
              "  'score': 0.9994066,\n",
              "  'word': 'Sasha',\n",
              "  'start': 246,\n",
              "  'end': 251},\n",
              " {'entity_group': 'ORG',\n",
              "  'score': 0.9990497,\n",
              "  'word': 'Google',\n",
              "  'start': 285,\n",
              "  'end': 291},\n",
              " {'entity_group': 'LOC',\n",
              "  'score': 0.9981209,\n",
              "  'word': 'San Francisco',\n",
              "  'start': 295,\n",
              "  'end': 308},\n",
              " {'entity_group': 'MISC',\n",
              "  'score': 0.83943176,\n",
              "  'word': '##3 AI Summit',\n",
              "  'start': 356,\n",
              "  'end': 367},\n",
              " {'entity_group': 'LOC',\n",
              "  'score': 0.99886084,\n",
              "  'word': 'Los Angeles',\n",
              "  'start': 371,\n",
              "  'end': 382},\n",
              " {'entity_group': 'MISC',\n",
              "  'score': 0.92094254,\n",
              "  'word': 'AI',\n",
              "  'start': 422,\n",
              "  'end': 424},\n",
              " {'entity_group': 'ORG',\n",
              "  'score': 0.9989942,\n",
              "  'word': 'IBM',\n",
              "  'start': 455,\n",
              "  'end': 458},\n",
              " {'entity_group': 'LOC',\n",
              "  'score': 0.9989812,\n",
              "  'word': 'London',\n",
              "  'start': 572,\n",
              "  'end': 578}]"
            ]
          },
          "metadata": {},
          "execution_count": 36
        }
      ],
      "source": [
        "ner = pipeline(\"ner\", grouped_entities=True)\n",
        "text = \"\"\"\n",
        "My name is Sylvain, and I work as a Machine Learning Engineer at Hugging Face in Brooklyn, New York.\n",
        "I’ve been with the company since 2021, and I love how we’re pushing the boundaries of natural language processing.\n",
        "My close friends, Dave and Sasha, are both software developers at Google in San Francisco.\n",
        "We often meet up at conferences, like the 2023 AI Summit in Los Angeles, to discuss the latest advancements in AI.\n",
        "I’m also collaborating with IBM on a project that explores the use of GPT models in healthcare.\n",
        "Recently, we presented our work at a seminar in London during August of this year.\n",
        "\"\"\"\n",
        "\n",
        "ner(text)"
      ]
    },
    {
      "cell_type": "code",
      "execution_count": 37,
      "metadata": {
        "colab": {
          "base_uri": "https://localhost:8080/"
        },
        "id": "_bNiVURkYDaB",
        "outputId": "0b426747-0c7c-49ee-df5d-b5565a474246"
      },
      "outputs": [
        {
          "output_type": "stream",
          "name": "stderr",
          "text": [
            "No model was supplied, defaulted to distilbert/distilbert-base-cased-distilled-squad and revision 626af31 (https://huggingface.co/distilbert/distilbert-base-cased-distilled-squad).\n",
            "Using a pipeline without specifying a model name and revision in production is not recommended.\n"
          ]
        },
        {
          "output_type": "execute_result",
          "data": {
            "text/plain": [
              "{'score': 0.6949766278266907, 'start': 33, 'end': 45, 'answer': 'Hugging Face'}"
            ]
          },
          "metadata": {},
          "execution_count": 37
        }
      ],
      "source": [
        "question_answerer = pipeline(\"question-answering\")\n",
        "question_answerer(\n",
        "    question=\"Where do I work?\",\n",
        "    context=\"My name is Sylvain and I work at Hugging Face in Brooklyn\",\n",
        ")"
      ]
    },
    {
      "cell_type": "code",
      "execution_count": 38,
      "metadata": {
        "colab": {
          "base_uri": "https://localhost:8080/"
        },
        "id": "ZbowS6CSYDaB",
        "outputId": "d52295b1-fef4-4989-a7a7-091e6678b551"
      },
      "outputs": [
        {
          "output_type": "stream",
          "name": "stderr",
          "text": [
            "No model was supplied, defaulted to sshleifer/distilbart-cnn-12-6 and revision a4f8f3e (https://huggingface.co/sshleifer/distilbart-cnn-12-6).\n",
            "Using a pipeline without specifying a model name and revision in production is not recommended.\n"
          ]
        },
        {
          "output_type": "execute_result",
          "data": {
            "text/plain": [
              "[{'summary_text': ' America has changed dramatically during recent years . The number of engineering graduates in the U.S. has declined in traditional engineering disciplines such as mechanical, civil,    electrical, chemical, and aeronautical engineering . Rapidly developing economies such as China and India continue to encourage and advance the teaching of engineering .'}]"
            ]
          },
          "metadata": {},
          "execution_count": 38
        }
      ],
      "source": [
        "summarizer = pipeline(\"summarization\")\n",
        "summarizer(\n",
        "    \"\"\"\n",
        "    America has changed dramatically during recent years. Not only has the number of\n",
        "    graduates in traditional engineering disciplines such as mechanical, civil,\n",
        "    electrical, chemical, and aeronautical engineering declined, but in most of\n",
        "    the premier American universities engineering curricula now concentrate on\n",
        "    and encourage largely the study of engineering science. As a result, there\n",
        "    are declining offerings in engineering subjects dealing with infrastructure,\n",
        "    the environment, and related issues, and greater concentration on high\n",
        "    technology subjects, largely supporting increasingly complex scientific\n",
        "    developments. While the latter is important, it should not be at the expense\n",
        "    of more traditional engineering.\n",
        "\n",
        "    Rapidly developing economies such as China and India, as well as other\n",
        "    industrial countries in Europe and Asia, continue to encourage and advance\n",
        "    the teaching of engineering. Both China and India, respectively, graduate\n",
        "    six and eight times as many traditional engineers as does the United States.\n",
        "    Other industrial countries at minimum maintain their output, while America\n",
        "    suffers an increasingly serious decline in the number of engineering graduates\n",
        "    and a lack of well-educated engineers.\n",
        "\"\"\"\n",
        ")"
      ]
    },
    {
      "cell_type": "code",
      "execution_count": 39,
      "metadata": {
        "colab": {
          "base_uri": "https://localhost:8080/"
        },
        "id": "fuwNcU9sYDaB",
        "outputId": "2bb4bf55-1cb8-4869-8bab-00f504f42168"
      },
      "outputs": [
        {
          "output_type": "stream",
          "name": "stderr",
          "text": [
            "/usr/local/lib/python3.10/dist-packages/transformers/models/marian/tokenization_marian.py:175: UserWarning: Recommended: pip install sacremoses.\n",
            "  warnings.warn(\"Recommended: pip install sacremoses.\")\n"
          ]
        },
        {
          "output_type": "execute_result",
          "data": {
            "text/plain": [
              "[{'translation_text': 'This course is produced by Hugging Face.'}]"
            ]
          },
          "metadata": {},
          "execution_count": 39
        }
      ],
      "source": [
        "translator = pipeline(\"translation\", model=\"Helsinki-NLP/opus-mt-fr-en\")\n",
        "translator(\"Ce cours est produit par Hugging Face.\")"
      ]
    }
  ],
  "metadata": {
    "colab": {
      "provenance": [],
      "include_colab_link": true
    },
    "language_info": {
      "name": "python"
    },
    "kernelspec": {
      "name": "python3",
      "display_name": "Python 3"
    }
  },
  "nbformat": 4,
  "nbformat_minor": 0
}